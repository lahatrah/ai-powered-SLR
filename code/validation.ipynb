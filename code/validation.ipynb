{
 "cells": [
  {
   "cell_type": "code",
   "execution_count": 1,
   "id": "0a56f640-581a-46c2-aed6-1daa62a0f4aa",
   "metadata": {},
   "outputs": [],
   "source": [
    "import json\n",
    "import os \n",
    "import pandas as pd\n",
    "import numpy as np\n",
    "import ast\n",
    "import time\n",
    "import re"
   ]
  },
  {
   "cell_type": "code",
   "execution_count": 2,
   "id": "fcee68f3-e965-4d11-a8e9-cabb2805913b",
   "metadata": {},
   "outputs": [],
   "source": [
    "pred_aeg = pd.read_csv(\"./../data/output_aegypti.csv\")\n",
    "pred_albo = pd.read_csv(\"./data/output_albopictus.csv\")\n",
    "\n",
    "val_aeg = pd.read_csv(\"./../data/validation_aegypti.csv\")\n",
    "val_albo = pd.read_csv(\"./../data/validation_albopictus.csv\")"
   ]
  },
  {
   "cell_type": "code",
   "execution_count": 3,
   "id": "1678feed-2981-4dc3-b4ea-73b173f734e0",
   "metadata": {},
   "outputs": [],
   "source": [
    "pred_aeg.drop_duplicates(inplace=True)\n",
    "pred_albo.drop_duplicates(inplace=True)\n",
    "\n",
    "val_aeg.drop_duplicates(inplace=True)\n",
    "val_albo.drop_duplicates(inplace=True)"
   ]
  },
  {
   "cell_type": "code",
   "execution_count": 4,
   "id": "cddbad1d-4f07-40d9-9b48-4fe77649128c",
   "metadata": {},
   "outputs": [],
   "source": [
    "pred_aeg.reset_index(drop=True,inplace=True)\n",
    "pred_albo.reset_index(drop=True,inplace=True)\n",
    "\n",
    "\n",
    "val_aeg.reset_index(drop=True,inplace=True)\n",
    "val_albo.reset_index(drop=True,inplace=True)"
   ]
  },
  {
   "cell_type": "code",
   "execution_count": 5,
   "id": "5b8dc3a4-43c8-4f28-bb08-773e2633d3f6",
   "metadata": {},
   "outputs": [],
   "source": [
    "pred_aeg[\"source_type\"] = pred_aeg[\"source_type\"].astype(int)\n",
    "pred_aeg[\"year\"] = pred_aeg[\"year\"].astype(int)\n",
    "pred_aeg[\"country\"] = pred_aeg[\"country\"].astype(str)\n",
    "pred_aeg[\"y\"] = pred_aeg[\"y\"].astype(float)\n",
    "pred_aeg[\"x\"] = pred_aeg[\"x\"].astype(float)\n",
    "\n",
    "pred_albo[\"source_type\"] = pred_albo[\"source_type\"].astype(int)\n",
    "pred_albo[\"year\"] = pred_albo[\"year\"].astype(int)\n",
    "pred_albo[\"country\"] = pred_albo[\"country\"].astype(str)\n",
    "pred_albo[\"y\"] = pred_albo[\"y\"].astype(float)\n",
    "pred_albo[\"x\"] = pred_albo[\"x\"].astype(float)"
   ]
  },
  {
   "cell_type": "code",
   "execution_count": 6,
   "id": "b2e9f77c-cd2f-44aa-b45e-c4c3671fbff1",
   "metadata": {},
   "outputs": [],
   "source": [
    "val_aeg[\"source_type\"] = val_aeg[\"source_type\"].astype(int)\n",
    "val_aeg[\"year\"] = val_aeg[\"year\"].astype(int)\n",
    "val_aeg[\"country\"] = val_aeg[\"country\"].astype(str)\n",
    "val_aeg[\"y\"] = val_aeg[\"y\"].astype(float)\n",
    "val_aeg[\"x\"] = val_aeg[\"x\"].astype(float)\n",
    "\n",
    "val_albo[\"source_type\"] = val_albo[\"source_type\"].astype(int)\n",
    "val_albo[\"year\"] = val_albo[\"year\"].astype(int)\n",
    "val_albo[\"country\"] = val_albo[\"country\"].astype(str)\n",
    "val_albo[\"y\"] = val_albo[\"y\"].astype(float)\n",
    "val_albo[\"x\"] = val_albo[\"x\"].astype(float)"
   ]
  },
  {
   "cell_type": "code",
   "execution_count": 7,
   "id": "70cd7631-5b68-4f6f-b521-01428cd2d762",
   "metadata": {},
   "outputs": [],
   "source": [
    "def compare(df_gt,df_llm):\n",
    "\n",
    "    # Initialize counters\n",
    "    TP, FP, FN = 0, 0, 0\n",
    "\n",
    "    fp_df = pd.DataFrame()\n",
    "    fn_df = pd.DataFrame()\n",
    "    list_tp_doc = []\n",
    "    list_tp_idx = []\n",
    "    list_fn_doc = []\n",
    "    list_fn_idx = []\n",
    "    list_fp_idx = []\n",
    "    counter = 0\n",
    "    for doc_id in df_llm[\"source_type\"].unique():\n",
    "    \n",
    "        gt_sample = df_gt[df_gt[\"source_type\"]==doc_id]\n",
    "        llm_sample = df_llm[df_llm[\"source_type\"]==doc_id]\n",
    "        \n",
    "    \n",
    "    # Compare each ground truth row to LLM rows\n",
    "        for llm_idx, llm_row in llm_sample.iterrows():\n",
    "            counter += 1\n",
    "            matched = False\n",
    "            for gt_idx, gt_row in gt_sample.iterrows():\n",
    "                if (\n",
    "                    gt_row[\"country\"] == llm_row[\"country\"]  \n",
    "                  and ( gt_row[\"year\"] == llm_row[\"year\"] or gt_row[\"year\"]==0)\n",
    "                  and  np.abs(gt_row[\"y\"]-llm_row[\"y\"])<=0.2 and np.abs(gt_row[\"x\"]-llm_row[\"x\"])<=0.2\n",
    "                   ):\n",
    "                    TP += 1\n",
    "                    matched = True\n",
    "                    list_tp_doc.append(doc_id)\n",
    "                    list_tp_idx.append(llm_idx)\n",
    "                    break\n",
    "            if not matched:\n",
    "                FP += 1  # LLM missed this ground truth row\n",
    "                #list_fn_doc.append(doc_id)\n",
    "                list_fp_idx.append(llm_idx)\n",
    "\n",
    "\n",
    "    for doc_id in df_gt[\"source_type\"].unique():\n",
    "        \n",
    "        gt_sample = df_gt[df_gt[\"source_type\"]==doc_id]\n",
    "        llm_sample = df_llm[df_llm[\"source_type\"]==doc_id]            \n",
    "\n",
    "        for gt_idx, gt_row in gt_sample.iterrows():\n",
    "            matched = False\n",
    "            for llm_idx,llm_row in llm_sample.iterrows():\n",
    "                if (\n",
    "                    gt_row[\"country\"] == llm_row[\"country\"]  \n",
    "                  and ( gt_row[\"year\"] == llm_row[\"year\"] or gt_row[\"year\"]==0)\n",
    "                  and  np.abs(gt_row[\"y\"]-llm_row[\"y\"])<=0.2 and np.abs(gt_row[\"x\"]-llm_row[\"x\"])<=0.2\n",
    "                   ):\n",
    "                    matched = True\n",
    "                    break\n",
    "\n",
    "            if not matched:\n",
    "                FN += 1\n",
    "                list_fn_idx.append(gt_idx)\n",
    "        \n",
    "    # FP = LLM rows not matched to any ground truth\n",
    "    FP = len(df_llm) - TP\n",
    "    list_fp = list(set(df_llm.index)-set(list_tp_idx))\n",
    "\n",
    "    fp_df = df_llm.iloc[list_fp_idx]\n",
    "    fn_df = df_gt.iloc[list_fn_idx]\n",
    "    \n",
    "    Precision = TP / (TP + FP)\n",
    "    Recall = TP / (TP + FN)\n",
    "    F1 = 2*( (Precision * Recall)/(Precision + Recall))\n",
    "    \n",
    "    print(f\"counter {counter}\")\n",
    "    print(f\"TP: {TP}, FP: {FP}, FN: {FN}\")\n",
    "    print(f\"Precision: {Precision:.3f}, Recall: {Recall:.3f}, F1: {F1:.3f}\")\n",
    "\n",
    "\n",
    "    return F1, Precision, Recall, list_fp_idx, list_fn_idx,fp_df,fn_df"
   ]
  },
  {
   "cell_type": "code",
   "execution_count": null,
   "id": "49d9bb0a-d9a6-42a8-9e8f-05eaa32de096",
   "metadata": {},
   "outputs": [],
   "source": [
    "F1_aeg,Precision_aeg,Recall_aeg,list_fp_aeg,list_fn_aeg,fp_aeg,fn_aeg = compare(val_aeg,pred_aeg)"
   ]
  },
  {
   "cell_type": "code",
   "execution_count": null,
   "id": "671bf758-804e-48fc-9dfc-fb34cadcdf65",
   "metadata": {},
   "outputs": [],
   "source": [
    "F1_albo,Precision_albo,Recall_albo,list_fp_albo,list_fn_albo,fp_albo,fn_albo = compare(val_albo,pred_albo)"
   ]
  }
 ],
 "metadata": {
  "kernelspec": {
   "display_name": "Python 3 (ipykernel)",
   "language": "python",
   "name": "python3"
  },
  "language_info": {
   "codemirror_mode": {
    "name": "ipython",
    "version": 3
   },
   "file_extension": ".py",
   "mimetype": "text/x-python",
   "name": "python",
   "nbconvert_exporter": "python",
   "pygments_lexer": "ipython3",
   "version": "3.12.1"
  }
 },
 "nbformat": 4,
 "nbformat_minor": 5
}
