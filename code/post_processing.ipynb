{
 "cells": [
  {
   "cell_type": "code",
   "execution_count": null,
   "metadata": {},
   "outputs": [],
   "source": [
    "import json\n",
    "import pandas as pd\n",
    "from datetime import datetime\n",
    "from geopy.geocoders import Nominatim\n",
    "import time\n",
    "import country_converter as coco"
   ]
  },
  {
   "cell_type": "code",
   "execution_count": null,
   "metadata": {},
   "outputs": [],
   "source": [
    "with open(\"input.json\",\"r\") as f:\n",
    "    inputs = json.load(f)"
   ]
  },
  {
   "cell_type": "code",
   "execution_count": null,
   "metadata": {},
   "outputs": [],
   "source": [
    "def filter_uppercase_words(text):\n",
    "    words = text.split()\n",
    "    filtered_words = [word for word in words if word[0].isupper()]\n",
    "    return ' '.join(filtered_words)\n",
    "\n",
    "CURRENT_YEAR = datetime.now().year\n",
    "def is_valid_year(value):\n",
    "    try:\n",
    "        year = int(value)\n",
    "        return 1000 <= year <= CURRENT_YEAR\n",
    "    except:\n",
    "        return False\n",
    "\n",
    "def process_year_column(df, col_name):\n",
    "    def process_year(x):\n",
    "        if is_valid_year(x):\n",
    "            return int(x)\n",
    "        try:\n",
    "            int(x)\n",
    "            return 0\n",
    "        except (ValueError, TypeError):\n",
    "            return \"Not a year\"\n",
    "    \n",
    "    df[col_name] = df[col_name].apply(process_year)\n",
    "    return df\n",
    "\n",
    "def is_valid_country(name):\n",
    "    if not isinstance(name, str) or not name.strip():\n",
    "        return False\n",
    "    \n",
    "    result = coco.convert(names=name, to='name_official', not_found=None)\n",
    "    return result is not None\n",
    "\n",
    "def get_coordinates(df):\n",
    "    loc = Nominatim(user_agent=\"geoapi\")\n",
    "\n",
    "    location_coords = {}\n",
    "\n",
    "    print(\"=== STARTING GEOCODING WITH NOMINATIM ===\")\n",
    "    print(f\"Processing {len(df['location'].unique())} unique locations...\\n\")\n",
    "\n",
    "    for i, location in enumerate(df[\"location\"].unique(), 1):\n",
    "        if pd.isna(location):\n",
    "            print(f\"[{i}/{len(df['location'].unique())}] Skipped: Empty location\")\n",
    "            location_coords[location] = {'address': None, 'latitude': None, 'longitude': None}\n",
    "            continue\n",
    "            \n",
    "        print(f\"[{i}/{len(df['location'].unique())}] Processing: '{location}'\")\n",
    "        \n",
    "        try:\n",
    "            getLoc = loc.geocode(location)\n",
    "            time.sleep(1)  # Required delay\n",
    "            \n",
    "            if getLoc:\n",
    "                location_coords[location] = {\n",
    "                    'address': getLoc.address,\n",
    "                    'latitude': getLoc.latitude,\n",
    "                    'longitude': getLoc.longitude\n",
    "                }\n",
    "\n",
    "            else:\n",
    "                location_coords[location] = {'address': None, 'latitude': None, 'longitude': None}\n",
    "                print(\"No results found\\n\")\n",
    "                \n",
    "        except Exception as e:\n",
    "            location_coords[location] = {'address': None, 'latitude': None, 'longitude': None}\n",
    "            print(f\"! Error: {str(e)}\")\n",
    "            time.sleep(5)  # Longer delay if error\n",
    "            print(\"  Waiting 5 seconds before continuing...\\n\")\n",
    "\n",
    "    return location_coords\n",
    "\n",
    "def validate_aegypti(row, sources=inputs):\n",
    "    source_type = str(row[\"source_type\"])\n",
    "    year = str(row[\"year\"])\n",
    "    country = str(row[\"country\"])\n",
    "    texts = [item[\"text\"] for item in sources if item[\"source_type\"]==source_type]\n",
    "    return any((country in text) and (year in text) and ('aegypti' in text) for text in texts)\n",
    "\n",
    "\n",
    "def validate_albopictus(row, sources=inputs):\n",
    "    source_type = str(row[\"source_type\"])\n",
    "    year = str(row[\"year\"])\n",
    "    country = str(row[\"country\"])\n",
    "    texts = [item[\"text\"] for item in sources if item[\"source_type\"]==source_type]\n",
    "    return any((country in text) and (year in text) and ('albopictus' in text) for text in texts)"
   ]
  },
  {
   "cell_type": "code",
   "execution_count": null,
   "metadata": {},
   "outputs": [],
   "source": [
    "df_output = pd.read_csv(\"output_dataset.csv\")\n",
    "df_output = df_output[df_output[\"vector\"].isin([\"Aedes aegypti\",\"Aedes albopictus\"])]"
   ]
  },
  {
   "cell_type": "code",
   "execution_count": null,
   "metadata": {},
   "outputs": [],
   "source": [
    "df_output['location'] = df_output['location'].apply(filter_uppercase_words)\n",
    "df_output = df_output[df_output['location'].str.replace(',', '').str.split().str.len() <= 9]\n",
    "\n",
    "df_output = process_year_column(df_output, \"year\")\n",
    "df_output = df_output[df_output[\"year\"]!=\"Not a year\"]\n",
    "\n",
    "df_output['is_valid_country'] = df_output['country'].apply(is_valid_country)\n",
    "df_output = df_output[df_output[\"is_valid_country\"]!=True]\n",
    "\n",
    "location_coords = get_coordinates(df_output)\n",
    "df_output['y'] = df_output['location'].map(lambda x: location_coords.get(x, {}).get('latitude'))\n",
    "df_output['x'] = df_output['location'].map(lambda x: location_coords.get(x, {}).get('longitude'))"
   ]
  },
  {
   "cell_type": "code",
   "execution_count": null,
   "metadata": {},
   "outputs": [],
   "source": [
    "df_output.drop_duplicates(inplace=True)\n",
    "df_output.dropna(inplace=True)"
   ]
  },
  {
   "cell_type": "code",
   "execution_count": null,
   "metadata": {},
   "outputs": [],
   "source": [
    "output_aegypti = df_output[df_output[\"vector\"]==\"Aedes aegypti\"]\n",
    "output_albopictus = df_output[df_output[\"vector\"]==\"Aedes albopictus\"]"
   ]
  },
  {
   "cell_type": "code",
   "execution_count": null,
   "metadata": {},
   "outputs": [],
   "source": [
    "output_aegypti[\"valid\"] = output_aegypti.apply(validate_aegypti,axis=1)\n",
    "output_albopictus[\"valid\"] = output_albopictus.apply(validate_albopictus,axis=1)\n",
    "\n",
    "output_aegypti = output_aegypti[output_aegypti[\"valid\"]==True]\n",
    "output_albopictus = output_albopictus[output_albopictus[\"valid\"]==True]"
   ]
  },
  {
   "cell_type": "code",
   "execution_count": null,
   "metadata": {},
   "outputs": [],
   "source": [
    "output_aegypti[[\"vector\",\"source_type\",\"country\",\"year\",\"y\",\"x\"]].to_csv(\"updated_aegypti.csv\",index=False)\n",
    "output_albopictus[[\"vector\",\"source_type\",\"country\",\"year\",\"y\",\"x\"]].to_csv(\"updated_albopictus.csv\",index=False)"
   ]
  }
 ],
 "metadata": {
  "language_info": {
   "name": "python"
  }
 },
 "nbformat": 4,
 "nbformat_minor": 2
}
